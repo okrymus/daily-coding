{
 "cells": [
  {
   "cell_type": "markdown",
   "metadata": {},
   "source": [
    "# Given an array of integers, return a new array such that each element at index i of the new array is the product of all the numbers in the original array except the one at i.\n",
    "\n",
    "For example, if our input was [1, 2, 3, 4, 5], the expected output would be [120, 60, 40, 30, 24]. If our input was [3, 2, 1], the expected output would be [2, 3, 6].\n",
    "\n",
    "Follow-up: what if you can't use division?"
   ]
  },
  {
   "cell_type": "code",
   "execution_count": 4,
   "metadata": {},
   "outputs": [
    {
     "data": {
      "text/plain": [
       "[120, 60, 40, 30, 24]"
      ]
     },
     "execution_count": 4,
     "metadata": {},
     "output_type": "execute_result"
    }
   ],
   "source": [
    "def solution_v1(lst):\n",
    "    results = []\n",
    "    for i in range(len(lst)):\n",
    "        m = lst[:i] + lst[i+1:]\n",
    "        result = 1\n",
    "        for x in m: \n",
    "             result = result * x  \n",
    "        results.append(result)\n",
    "    return results\n",
    "\n",
    "solution_v1([1, 2, 3, 4, 5])\n",
    "# O(n^2) BAD"
   ]
  },
  {
   "cell_type": "code",
   "execution_count": 14,
   "metadata": {},
   "outputs": [
    {
     "data": {
      "text/plain": [
       "[120, 60, 40, 30, 24]"
      ]
     },
     "execution_count": 14,
     "metadata": {},
     "output_type": "execute_result"
    }
   ],
   "source": [
    "#source https://www.geeksforgeeks.org/product-array-puzzle-set-2-o1-space/\n",
    "import math \n",
    "  \n",
    "# epsilon value to maintain precision \n",
    "EPS = 1e-9\n",
    "  \n",
    "def productPuzzle(a, n): \n",
    "    result = []\n",
    "    # to hold sum of all values \n",
    "    sum = 0\n",
    "    for i in range(n): \n",
    "        sum += math.log10(a[i]) \n",
    "      \n",
    "    # output product for each index \n",
    "    # antilog to find original product value \n",
    "    for i in range(n): \n",
    "        result.append(int((EPS + pow(10.00, sum - math.log10(a[i])))))\n",
    "      \n",
    "    return result\n",
    "\n",
    "   \n",
    "# Driver code \n",
    "a =[1, 2, 3, 4, 5]\n",
    "n = len(a) \n",
    "productPuzzle(a, n) "
   ]
  },
  {
   "cell_type": "code",
   "execution_count": null,
   "metadata": {},
   "outputs": [],
   "source": []
  }
 ],
 "metadata": {
  "kernelspec": {
   "display_name": "Python 3",
   "language": "python",
   "name": "python3"
  },
  "language_info": {
   "codemirror_mode": {
    "name": "ipython",
    "version": 3
   },
   "file_extension": ".py",
   "mimetype": "text/x-python",
   "name": "python",
   "nbconvert_exporter": "python",
   "pygments_lexer": "ipython3",
   "version": "3.7.0"
  }
 },
 "nbformat": 4,
 "nbformat_minor": 2
}
