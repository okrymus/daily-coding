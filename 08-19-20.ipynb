{
 "cells": [
  {
   "cell_type": "markdown",
   "metadata": {},
   "source": [
    "# Given the root to a binary tree, implement serialize(root), which serializes the tree into a string, and deserialize(s), which deserializes the string back into the tree.\n",
    "\n"
   ]
  },
  {
   "cell_type": "code",
   "execution_count": 4,
   "metadata": {},
   "outputs": [],
   "source": [
    "import re\n",
    "\n",
    "class Node:\n",
    "    def __init__(self, val, left=None, right=None):\n",
    "        self.val = val\n",
    "        self.left = left\n",
    "        self.right = right\n",
    "\n",
    "def helper_serialize(Node):\n",
    "    global s\n",
    "    \n",
    "    s += Node.val\n",
    "    \n",
    "    if (Node.left is None and Node.right is None):\n",
    "        return\n",
    "    \n",
    "    s += \"(\"\n",
    "    if (Node.left is not None):\n",
    "        helper_serialize(Node.left)\n",
    "    s += \")\"\n",
    "    \n",
    "    s += \"(\"\n",
    "    if (Node.right is not None):\n",
    "        helper_serialize(Node.right)\n",
    "    s += \")\"\n",
    "    \n",
    "def serialize(Node):\n",
    "    global s\n",
    "    s = \"\"\n",
    "    helper_serialize(Node)\n",
    "    return s\n",
    "    \n",
    "def deserialize(s):\n",
    "    if s == \"\":\n",
    "        return None\n",
    "    \n",
    "    left = \"\"\n",
    "    right = \"\"\n",
    "    \n",
    "    if s is not None and '(' in s:\n",
    "        val = s.split('(')[0]\n",
    "\n",
    "        m = list(re.findall(r\"\\(.*\\)\",s)[0])\n",
    "\n",
    "        q = [m.pop(0)]\n",
    "        while (len(q) is not 0):\n",
    "            k = m.pop(0)\n",
    "\n",
    "            if k is \"(\":\n",
    "                q.append(k)\n",
    "                left += k\n",
    "            elif k is \")\":\n",
    "                q.pop(0)\n",
    "                if len(q) is not 0:\n",
    "                    left += k\n",
    "            else:\n",
    "                left += k\n",
    "        right = ''.join(m)[1:-1]\n",
    "\n",
    "    else:\n",
    "        val = s\n",
    "\n",
    "    return Node(val,deserialize(left),deserialize(right))\n",
    "\n",
    "\n"
   ]
  },
  {
   "cell_type": "code",
   "execution_count": 11,
   "metadata": {},
   "outputs": [
    {
     "name": "stdout",
     "output_type": "stream",
     "text": [
      "root(left(left.left)())(right)\n"
     ]
    }
   ],
   "source": [
    "node = Node('root', Node('left', Node('left.left')), Node('right'))\n",
    "\n",
    "print(serialize(node))\n",
    "\n",
    "assert deserialize(serialize(node)).left.left.val == 'left.left'"
   ]
  },
  {
   "cell_type": "code",
   "execution_count": null,
   "metadata": {},
   "outputs": [],
   "source": []
  }
 ],
 "metadata": {
  "kernelspec": {
   "display_name": "Python 3",
   "language": "python",
   "name": "python3"
  },
  "language_info": {
   "codemirror_mode": {
    "name": "ipython",
    "version": 3
   },
   "file_extension": ".py",
   "mimetype": "text/x-python",
   "name": "python",
   "nbconvert_exporter": "python",
   "pygments_lexer": "ipython3",
   "version": "3.7.0"
  }
 },
 "nbformat": 4,
 "nbformat_minor": 2
}
